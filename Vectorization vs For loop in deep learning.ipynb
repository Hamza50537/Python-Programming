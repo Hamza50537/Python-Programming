{
 "cells": [
  {
   "cell_type": "code",
   "execution_count": 1,
   "metadata": {},
   "outputs": [
    {
     "name": "stdout",
     "output_type": "stream",
     "text": [
      "[ 5  6  7  8  9 10]\n"
     ]
    }
   ],
   "source": [
    "import numpy as np\n",
    "input_array=np.array([5,6,7,8,9,10])\n",
    "print(input_array)"
   ]
  },
  {
   "cell_type": "code",
   "execution_count": 7,
   "metadata": {},
   "outputs": [
    {
     "name": "stdout",
     "output_type": "stream",
     "text": [
      "250509.20422669954\n",
      "Vectorized Version: 1.0166168212890625ms\n",
      "250509.2042267063\n",
      "For loop version: 581.0394287109375ms\n"
     ]
    }
   ],
   "source": [
    "import time\n",
    "\n",
    "alpha=np.random.rand(1000000)\n",
    "beta=np.random.rand(1000000)\n",
    "\n",
    "before=time.time()\n",
    "output=np.dot(alpha,beta)\n",
    "after=time.time()\n",
    "\n",
    "print(output)\n",
    "\n",
    "print(\"Vectorized Version: \"+str(1000*(after-before))+\"ms\")\n",
    "\n",
    "delta=0\n",
    "before_for=time.time()\n",
    "for i in range(1000000):\n",
    "    delta+=alpha[i]*beta[i]\n",
    "after_for=time.time()\n",
    "\n",
    "print(delta)\n",
    "print(\"For loop version: \"+str(1000*(after_for-before_for))+\"ms\")"
   ]
  },
  {
   "cell_type": "markdown",
   "metadata": {},
   "source": [
    "So Vectorization version is 5 times better than for loop version. I hope that little example helps you in the understanding of vectorization concept>"
   ]
  },
  {
   "cell_type": "code",
   "execution_count": null,
   "metadata": {},
   "outputs": [],
   "source": []
  }
 ],
 "metadata": {
  "kernelspec": {
   "display_name": "Python 3",
   "language": "python",
   "name": "python3"
  },
  "language_info": {
   "codemirror_mode": {
    "name": "ipython",
    "version": 3
   },
   "file_extension": ".py",
   "mimetype": "text/x-python",
   "name": "python",
   "nbconvert_exporter": "python",
   "pygments_lexer": "ipython3",
   "version": "3.7.4"
  }
 },
 "nbformat": 4,
 "nbformat_minor": 2
}
